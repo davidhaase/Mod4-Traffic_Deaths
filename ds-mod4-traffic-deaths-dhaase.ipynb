{
 "cells": [
  {
   "cell_type": "markdown",
   "metadata": {},
   "source": [
    "# Title\n",
    "#### June 29, 2019\n",
    "* Flatiron School (nyc-mhtn-ds-0422019)"
   ]
  },
  {
   "cell_type": "code",
   "execution_count": 25,
   "metadata": {},
   "outputs": [],
   "source": [
    "import numpy as np\n",
    "import pandas as pd\n",
    "pd.set_option('display.max_columns', 100)\n",
    "\n",
    "from sklearn.metrics import accuracy_score, f1_score, confusion_matrix\n",
    "from sklearn.model_selection import train_test_split\n",
    "\n",
    "from sklearn.neighbors import KNeighborsClassifier\n",
    "from sklearn.ensemble import RandomForestClassifier\n",
    "from sklearn.model_selection import GridSearchCV\n",
    "\n",
    "\n",
    "from private import api_keys\n",
    "from weather import Weather"
   ]
  },
  {
   "cell_type": "code",
   "execution_count": 37,
   "metadata": {},
   "outputs": [],
   "source": [
    "class Modeler():\n",
    "    def __init__(self, dataframe, target):\n",
    "        self.target = target\n",
    "        self.df = dataframe\n",
    "        self.trials = []\n",
    "        \n",
    "    def random_forest(self, features, kwargs):\n",
    "        '''bootstrap=True, class_weight=None, criterion='gini',\n",
    "            max_depth=None, max_features='auto', max_leaf_nodes=None,\n",
    "            min_impurity_decrease=0.0, min_impurity_split=None,\n",
    "            min_samples_leaf=1, min_samples_split=2,\n",
    "            min_weight_fraction_leaf=0.0, n_estimators=100, n_jobs=None,\n",
    "            oob_score=False, random_state=23, verbose=0, warm_start=False'''\n",
    "        \n",
    "        trial = {'params':kwargs,\n",
    "                'features':features}\n",
    "        \n",
    "        try:\n",
    "            X = self.df[features]\n",
    "            y = self.df[self.target]\n",
    "            X_train, X_test, y_train, y_test = train_test_split(X, y, test_size=0.25, random_state=23)\n",
    "            \n",
    "            \n",
    "            rfc = RandomForestClassifier(**kwargs)\n",
    "            \n",
    "            rfc.fit(X_train, y_train)\n",
    "            rfc_pred = rfc.predict(X_test)\n",
    "            trial['Test Accuracy Score'] = accuracy_score(y_test, rfc_pred)\n",
    "            trial['Test F1 Score'] = f1_score(y_test, rfc_pred)\n",
    "            \n",
    "            # checking accuracy on the test data\n",
    "            print('Test Accuracy score: ', str(accuracy_score(y_test, rfc_pred)))\n",
    "            # checking accuracy on the test data\n",
    "            print('Test F1 score: ', str(f1_score(y_test, rfc_pred)))\n",
    "            \n",
    "            self.trials.append(trial)\n",
    "            \n",
    "        except Exception as e:\n",
    "            print(e)\n",
    "    \n",
    "    def grid_search(self,features, kwargs):\n",
    "        '''GridSearchCV(cv=5, error_score='raise-deprecating',\n",
    "        estimator=RandomForestClassifier(bootstrap=True, class_weight=None, criterion='gini',\n",
    "            max_depth=None, max_features='auto', max_leaf_nodes=None,\n",
    "            min_impurity_decrease=0.0, min_impurity_split=None,\n",
    "            min_samples_leaf=1, min_samples_split=2,\n",
    "            min_weight_fraction_leaf=0.0, n_estimators=100, n_jobs=None,\n",
    "            oob_score=False, random_state=23, verbose=0, warm_start=False),\n",
    "        fit_params=None, iid='warn', n_jobs=-1,\n",
    "        param_grid={'n_estimators': [100, 200, 300, 400]},\n",
    "        pre_dispatch='2*n_jobs', refit=True, return_train_score='warn',\n",
    "        scoring=None, verbose=0)'''\n",
    "        \n",
    "        trial = {'params':kwargs,\n",
    "                'features':features}\n",
    "        \n",
    "        try:\n",
    "            X = self.df[features]\n",
    "            y = self.df[self.target]\n",
    "            X_train, X_test, y_train, y_test = train_test_split(X, y, test_size=0.25, random_state=23)\n",
    "            \n",
    "            CV_rfc = GridSearchCV(**kwargs)\n",
    "            CV_rfc.fit(X_train, y_train)\n",
    "            \n",
    "            print(CV_rfc.best_params_)\n",
    "\n",
    "\n",
    "            #Identify the best score during fitting with cross-validation\n",
    "            print(CV_rfc.cv_results_)\n",
    "            \n",
    "            CV_rfc_pred = CV_rfc.best_estimator_.predict(X_test)\n",
    "\n",
    "            trial['Test Accuracy Score'] = accuracy_score(y_test, CV_rfc_pred)\n",
    "            trial['Test F1 Score'] = f1_score(y_test, CV_rfc_pred)\n",
    "            \n",
    "            self.trials.append(trial)\n",
    "            \n",
    "            # checking accuracy\n",
    "            print('Test Accuracy score: ', str(accuracy_score(y_test, CV_rfc_pred)))\n",
    "            # checking accuracy\n",
    "            print('Test F1 score: ', str(f1_score(y_test, CV_rfc_pred)))\n",
    "            \n",
    "        except Exception as e:\n",
    "            print(e)\n",
    "    \n",
    "    def knn(self, features, kwargs):\n",
    "        '''KNeighborsClassifier(algorithm='auto', leaf_size=30, metric='minkowski',\n",
    "           metric_params=None, n_jobs=None, n_neighbors=1, p=2,\n",
    "           weights='uniform')'''\n",
    "        \n",
    "        trial = {'params':kwargs,\n",
    "                'features':features}\n",
    "        \n",
    "        try:\n",
    "            X = self.df[features]\n",
    "            y = self.df[self.target]\n",
    "            X_train, X_test, y_train, y_test = train_test_split(X, y, test_size=0.25, random_state=23)\n",
    "            \n",
    "            knn = KNeighborsClassifier(**kwargs)\n",
    "            knn.fit(X_train, y_train)\n",
    "            knn_y_pred = knn.predict(X_test)\n",
    "            \n",
    "            trial['Test Accuracy Score'] = accuracy_score(y_test, knn_y_pred)\n",
    "            trial['Test F1 Score'] = f1_score(y_test, knn_y_pred)\n",
    "            \n",
    "            print('Accuracy:' + str(accuracy_score(y_test, knn_y_pred)))\n",
    "            print('F1: ' + str(f1_score(y_test, knn_y_pred)))\n",
    "            \n",
    "            self.trials.append(trial)\n",
    "            \n",
    "        except Exception as e:\n",
    "            print(e)\n",
    "\n",
    "\n",
    "\n"
   ]
  },
  {
   "cell_type": "markdown",
   "metadata": {},
   "source": [
    "#### Collision Data"
   ]
  },
  {
   "cell_type": "code",
   "execution_count": 3,
   "metadata": {},
   "outputs": [
    {
     "name": "stderr",
     "output_type": "stream",
     "text": [
      "/Users/davidhaase/anaconda3/lib/python3.7/site-packages/IPython/core/interactiveshell.py:3020: DtypeWarning: Columns (3,22,28) have mixed types. Specify dtype option on import or set low_memory=False.\n",
      "  interactivity=interactivity, compiler=compiler, result=result)\n"
     ]
    }
   ],
   "source": [
    "# This file is saved locally from the Navy site because it is > 300 MB. \n",
    "# The Navy site is here: https://data.cityofnewyork.us/resource/qiz3-axqb.json\n",
    "\n",
    "data_file = '../../Datasets/NYPD_Motor_Vehicle_Collisions.csv'\n",
    "df = pd.read_csv(data_file)"
   ]
  },
  {
   "cell_type": "code",
   "execution_count": 4,
   "metadata": {},
   "outputs": [
    {
     "data": {
      "text/plain": [
       "DATE                                   0\n",
       "TIME                                   0\n",
       "BOROUGH                           452491\n",
       "ZIP CODE                          452670\n",
       "LATITUDE                          188214\n",
       "LONGITUDE                         188214\n",
       "LOCATION                          188214\n",
       "ON STREET NAME                    290761\n",
       "CROSS STREET NAME                 487294\n",
       "OFF STREET NAME                  1309317\n",
       "NUMBER OF PERSONS INJURED             17\n",
       "NUMBER OF PERSONS KILLED              31\n",
       "NUMBER OF PEDESTRIANS INJURED          0\n",
       "NUMBER OF PEDESTRIANS KILLED           0\n",
       "NUMBER OF CYCLIST INJURED              0\n",
       "NUMBER OF CYCLIST KILLED               0\n",
       "NUMBER OF MOTORIST INJURED             0\n",
       "NUMBER OF MOTORIST KILLED              0\n",
       "CONTRIBUTING FACTOR VEHICLE 1       3922\n",
       "CONTRIBUTING FACTOR VEHICLE 2     201012\n",
       "CONTRIBUTING FACTOR VEHICLE 3    1410759\n",
       "CONTRIBUTING FACTOR VEHICLE 4    1487724\n",
       "CONTRIBUTING FACTOR VEHICLE 5    1502781\n",
       "UNIQUE KEY                             0\n",
       "VEHICLE TYPE CODE 1                 4805\n",
       "VEHICLE TYPE CODE 2               244738\n",
       "VEHICLE TYPE CODE 3              1381359\n",
       "VEHICLE TYPE CODE 4              1459872\n",
       "VEHICLE TYPE CODE 5              1497667\n",
       "dtype: int64"
      ]
     },
     "execution_count": 4,
     "metadata": {},
     "output_type": "execute_result"
    }
   ],
   "source": [
    "\n",
    "df.isna().sum()\n"
   ]
  },
  {
   "cell_type": "markdown",
   "metadata": {},
   "source": [
    "### Convert Data Types\n",
    "#### Dates\n",
    "(ATTENTION: the code below will take a few minutes)"
   ]
  },
  {
   "cell_type": "code",
   "execution_count": 5,
   "metadata": {},
   "outputs": [],
   "source": [
    "df['DATE'] = pd.to_datetime(df['DATE'])\n",
    "df['TIME'] = pd.to_datetime(df['TIME'])"
   ]
  },
  {
   "cell_type": "markdown",
   "metadata": {},
   "source": [
    "####  Floats"
   ]
  },
  {
   "cell_type": "code",
   "execution_count": 10,
   "metadata": {},
   "outputs": [],
   "source": [
    "df['NUMBER OF PERSONS KILLED'].dropna(inplace=True)\n",
    "\n"
   ]
  },
  {
   "cell_type": "code",
   "execution_count": 11,
   "metadata": {},
   "outputs": [],
   "source": [
    "df['NUMBER OF PERSONS KILLED'] = df['NUMBER OF PERSONS KILLED'].astype(int)\n",
    "\n"
   ]
  },
  {
   "cell_type": "code",
   "execution_count": 13,
   "metadata": {},
   "outputs": [],
   "source": [
    "df['FATAL'] = False\n",
    "df.loc[df['NUMBER OF PERSONS KILLED'] > 0, 'FATAL'] = True"
   ]
  },
  {
   "cell_type": "code",
   "execution_count": 21,
   "metadata": {},
   "outputs": [],
   "source": [
    "features = ['ZIP CODE',\n",
    "       'LOCATION', 'ON STREET NAME', 'CROSS STREET NAME', 'OFF STREET NAME',\n",
    "       'NUMBER OF PERSONS INJURED', \n",
    "       'NUMBER OF PEDESTRIANS INJURED', \n",
    "       'NUMBER OF CYCLIST INJURED', \n",
    "       'NUMBER OF MOTORIST INJURED', \n",
    "       'CONTRIBUTING FACTOR VEHICLE 1', 'VEHICLE TYPE CODE 1',\n",
    "       'VEHICLE TYPE CODE 2' ]"
   ]
  },
  {
   "cell_type": "markdown",
   "metadata": {},
   "source": [
    "### Saving data to file locally\n",
    "The section below is commented out on purpose.  But if desired, can be used a breakpoint for saving cleaned data to save time in development."
   ]
  },
  {
   "cell_type": "code",
   "execution_count": 31,
   "metadata": {},
   "outputs": [],
   "source": [
    " \n",
    "arg_list = {'random_state':23, 'n_estimators':100}\n",
    "\n",
    "target = 'FATAL'\n",
    "\n",
    "Traffic = Modeler(dataframe=df, target=target)   "
   ]
  },
  {
   "cell_type": "code",
   "execution_count": 28,
   "metadata": {},
   "outputs": [
    {
     "name": "stdout",
     "output_type": "stream",
     "text": [
      "could not convert string to float: \n"
     ]
    }
   ],
   "source": [
    "Traffic.random_forest(features=features, kwargs=arg_list)"
   ]
  },
  {
   "cell_type": "code",
   "execution_count": 33,
   "metadata": {},
   "outputs": [
    {
     "name": "stdout",
     "output_type": "stream",
     "text": [
      "could not convert string to float: \n"
     ]
    },
    {
     "ename": "ValueError",
     "evalue": "could not convert string to float: ",
     "output_type": "error",
     "traceback": [
      "\u001b[0;31m---------------------------------------------------------------------------\u001b[0m",
      "\u001b[0;31mValueError\u001b[0m                                Traceback (most recent call last)",
      "\u001b[0;32m<ipython-input-33-0a663fd092ae>\u001b[0m in \u001b[0;36m<module>\u001b[0;34m\u001b[0m\n\u001b[1;32m      1\u001b[0m \u001b[0;34m\u001b[0m\u001b[0m\n\u001b[1;32m      2\u001b[0m \u001b[0marg_list\u001b[0m \u001b[0;34m=\u001b[0m \u001b[0;34m{\u001b[0m\u001b[0;34m'n_neighbors'\u001b[0m\u001b[0;34m:\u001b[0m\u001b[0;36m1\u001b[0m\u001b[0;34m}\u001b[0m\u001b[0;34m\u001b[0m\u001b[0;34m\u001b[0m\u001b[0m\n\u001b[0;32m----> 3\u001b[0;31m \u001b[0mTraffic\u001b[0m\u001b[0;34m.\u001b[0m\u001b[0mknn\u001b[0m\u001b[0;34m(\u001b[0m\u001b[0mfeatures\u001b[0m\u001b[0;34m=\u001b[0m\u001b[0mfeatures\u001b[0m\u001b[0;34m,\u001b[0m \u001b[0mkwargs\u001b[0m\u001b[0;34m=\u001b[0m\u001b[0marg_list\u001b[0m\u001b[0;34m)\u001b[0m\u001b[0;34m\u001b[0m\u001b[0;34m\u001b[0m\u001b[0m\n\u001b[0m",
      "\u001b[0;32m<ipython-input-26-0a93e34f28db>\u001b[0m in \u001b[0;36mknn\u001b[0;34m(self, features, kwargs)\u001b[0m\n\u001b[1;32m     69\u001b[0m \u001b[0;34m\u001b[0m\u001b[0m\n\u001b[1;32m     70\u001b[0m         \u001b[0mknn\u001b[0m \u001b[0;34m=\u001b[0m \u001b[0mKNeighborsClassifier\u001b[0m\u001b[0;34m(\u001b[0m\u001b[0;34m**\u001b[0m\u001b[0mkwargs\u001b[0m\u001b[0;34m)\u001b[0m\u001b[0;34m\u001b[0m\u001b[0;34m\u001b[0m\u001b[0m\n\u001b[0;32m---> 71\u001b[0;31m         \u001b[0mknn\u001b[0m\u001b[0;34m.\u001b[0m\u001b[0mfit\u001b[0m\u001b[0;34m(\u001b[0m\u001b[0mX_train\u001b[0m\u001b[0;34m,\u001b[0m \u001b[0my_train\u001b[0m\u001b[0;34m)\u001b[0m\u001b[0;34m\u001b[0m\u001b[0;34m\u001b[0m\u001b[0m\n\u001b[0m\u001b[1;32m     72\u001b[0m         \u001b[0my_pred_class\u001b[0m \u001b[0;34m=\u001b[0m \u001b[0mknn\u001b[0m\u001b[0;34m.\u001b[0m\u001b[0mpredict\u001b[0m\u001b[0;34m(\u001b[0m\u001b[0mX_test\u001b[0m\u001b[0;34m)\u001b[0m\u001b[0;34m\u001b[0m\u001b[0;34m\u001b[0m\u001b[0m\n\u001b[1;32m     73\u001b[0m         \u001b[0mprint\u001b[0m\u001b[0;34m(\u001b[0m\u001b[0;34m'Accuracy:'\u001b[0m \u001b[0;34m+\u001b[0m \u001b[0mstr\u001b[0m\u001b[0;34m(\u001b[0m\u001b[0maccuracy_score\u001b[0m\u001b[0;34m(\u001b[0m\u001b[0my_test\u001b[0m\u001b[0;34m,\u001b[0m \u001b[0my_pred_class\u001b[0m\u001b[0;34m)\u001b[0m\u001b[0;34m)\u001b[0m\u001b[0;34m)\u001b[0m\u001b[0;34m\u001b[0m\u001b[0;34m\u001b[0m\u001b[0m\n",
      "\u001b[0;32m~/anaconda3/lib/python3.7/site-packages/sklearn/neighbors/base.py\u001b[0m in \u001b[0;36mfit\u001b[0;34m(self, X, y)\u001b[0m\n\u001b[1;32m    889\u001b[0m         \"\"\"\n\u001b[1;32m    890\u001b[0m         \u001b[0;32mif\u001b[0m \u001b[0;32mnot\u001b[0m \u001b[0misinstance\u001b[0m\u001b[0;34m(\u001b[0m\u001b[0mX\u001b[0m\u001b[0;34m,\u001b[0m \u001b[0;34m(\u001b[0m\u001b[0mKDTree\u001b[0m\u001b[0;34m,\u001b[0m \u001b[0mBallTree\u001b[0m\u001b[0;34m)\u001b[0m\u001b[0;34m)\u001b[0m\u001b[0;34m:\u001b[0m\u001b[0;34m\u001b[0m\u001b[0;34m\u001b[0m\u001b[0m\n\u001b[0;32m--> 891\u001b[0;31m             \u001b[0mX\u001b[0m\u001b[0;34m,\u001b[0m \u001b[0my\u001b[0m \u001b[0;34m=\u001b[0m \u001b[0mcheck_X_y\u001b[0m\u001b[0;34m(\u001b[0m\u001b[0mX\u001b[0m\u001b[0;34m,\u001b[0m \u001b[0my\u001b[0m\u001b[0;34m,\u001b[0m \u001b[0;34m\"csr\"\u001b[0m\u001b[0;34m,\u001b[0m \u001b[0mmulti_output\u001b[0m\u001b[0;34m=\u001b[0m\u001b[0;32mTrue\u001b[0m\u001b[0;34m)\u001b[0m\u001b[0;34m\u001b[0m\u001b[0;34m\u001b[0m\u001b[0m\n\u001b[0m\u001b[1;32m    892\u001b[0m \u001b[0;34m\u001b[0m\u001b[0m\n\u001b[1;32m    893\u001b[0m         \u001b[0;32mif\u001b[0m \u001b[0my\u001b[0m\u001b[0;34m.\u001b[0m\u001b[0mndim\u001b[0m \u001b[0;34m==\u001b[0m \u001b[0;36m1\u001b[0m \u001b[0;32mor\u001b[0m \u001b[0my\u001b[0m\u001b[0;34m.\u001b[0m\u001b[0mndim\u001b[0m \u001b[0;34m==\u001b[0m \u001b[0;36m2\u001b[0m \u001b[0;32mand\u001b[0m \u001b[0my\u001b[0m\u001b[0;34m.\u001b[0m\u001b[0mshape\u001b[0m\u001b[0;34m[\u001b[0m\u001b[0;36m1\u001b[0m\u001b[0;34m]\u001b[0m \u001b[0;34m==\u001b[0m \u001b[0;36m1\u001b[0m\u001b[0;34m:\u001b[0m\u001b[0;34m\u001b[0m\u001b[0;34m\u001b[0m\u001b[0m\n",
      "\u001b[0;32m~/anaconda3/lib/python3.7/site-packages/sklearn/utils/validation.py\u001b[0m in \u001b[0;36mcheck_X_y\u001b[0;34m(X, y, accept_sparse, accept_large_sparse, dtype, order, copy, force_all_finite, ensure_2d, allow_nd, multi_output, ensure_min_samples, ensure_min_features, y_numeric, warn_on_dtype, estimator)\u001b[0m\n\u001b[1;32m    754\u001b[0m                     \u001b[0mensure_min_features\u001b[0m\u001b[0;34m=\u001b[0m\u001b[0mensure_min_features\u001b[0m\u001b[0;34m,\u001b[0m\u001b[0;34m\u001b[0m\u001b[0;34m\u001b[0m\u001b[0m\n\u001b[1;32m    755\u001b[0m                     \u001b[0mwarn_on_dtype\u001b[0m\u001b[0;34m=\u001b[0m\u001b[0mwarn_on_dtype\u001b[0m\u001b[0;34m,\u001b[0m\u001b[0;34m\u001b[0m\u001b[0;34m\u001b[0m\u001b[0m\n\u001b[0;32m--> 756\u001b[0;31m                     estimator=estimator)\n\u001b[0m\u001b[1;32m    757\u001b[0m     \u001b[0;32mif\u001b[0m \u001b[0mmulti_output\u001b[0m\u001b[0;34m:\u001b[0m\u001b[0;34m\u001b[0m\u001b[0;34m\u001b[0m\u001b[0m\n\u001b[1;32m    758\u001b[0m         y = check_array(y, 'csr', force_all_finite=True, ensure_2d=False,\n",
      "\u001b[0;32m~/anaconda3/lib/python3.7/site-packages/sklearn/utils/validation.py\u001b[0m in \u001b[0;36mcheck_array\u001b[0;34m(array, accept_sparse, accept_large_sparse, dtype, order, copy, force_all_finite, ensure_2d, allow_nd, ensure_min_samples, ensure_min_features, warn_on_dtype, estimator)\u001b[0m\n\u001b[1;32m    565\u001b[0m         \u001b[0;31m# make sure we actually converted to numeric:\u001b[0m\u001b[0;34m\u001b[0m\u001b[0;34m\u001b[0m\u001b[0;34m\u001b[0m\u001b[0m\n\u001b[1;32m    566\u001b[0m         \u001b[0;32mif\u001b[0m \u001b[0mdtype_numeric\u001b[0m \u001b[0;32mand\u001b[0m \u001b[0marray\u001b[0m\u001b[0;34m.\u001b[0m\u001b[0mdtype\u001b[0m\u001b[0;34m.\u001b[0m\u001b[0mkind\u001b[0m \u001b[0;34m==\u001b[0m \u001b[0;34m\"O\"\u001b[0m\u001b[0;34m:\u001b[0m\u001b[0;34m\u001b[0m\u001b[0;34m\u001b[0m\u001b[0m\n\u001b[0;32m--> 567\u001b[0;31m             \u001b[0marray\u001b[0m \u001b[0;34m=\u001b[0m \u001b[0marray\u001b[0m\u001b[0;34m.\u001b[0m\u001b[0mastype\u001b[0m\u001b[0;34m(\u001b[0m\u001b[0mnp\u001b[0m\u001b[0;34m.\u001b[0m\u001b[0mfloat64\u001b[0m\u001b[0;34m)\u001b[0m\u001b[0;34m\u001b[0m\u001b[0;34m\u001b[0m\u001b[0m\n\u001b[0m\u001b[1;32m    568\u001b[0m         \u001b[0;32mif\u001b[0m \u001b[0;32mnot\u001b[0m \u001b[0mallow_nd\u001b[0m \u001b[0;32mand\u001b[0m \u001b[0marray\u001b[0m\u001b[0;34m.\u001b[0m\u001b[0mndim\u001b[0m \u001b[0;34m>=\u001b[0m \u001b[0;36m3\u001b[0m\u001b[0;34m:\u001b[0m\u001b[0;34m\u001b[0m\u001b[0;34m\u001b[0m\u001b[0m\n\u001b[1;32m    569\u001b[0m             raise ValueError(\"Found array with dim %d. %s expected <= 2.\"\n",
      "\u001b[0;31mValueError\u001b[0m: could not convert string to float: "
     ]
    }
   ],
   "source": [
    "arg_list = {'n_neighbors':1}\n",
    "Traffic.knn(features=features, kwargs=arg_list)"
   ]
  },
  {
   "cell_type": "code",
   "execution_count": null,
   "metadata": {},
   "outputs": [],
   "source": []
  },
  {
   "cell_type": "markdown",
   "metadata": {},
   "source": [
    "## References\n",
    "### Project Write-Up Template\n",
    "Credit to dair.ai with ❤️\n",
    "* https://github.com/dair-ai/writing_data_scientists/blob/master/Writing_Primer_for_Data_Scientists.ipynb"
   ]
  },
  {
   "cell_type": "markdown",
   "metadata": {},
   "source": [
    "## Data Cleaning\n",
    "### Summarize the shape of collision data from NYC\n",
    "`df.shape`\n",
    "* (1507923, 29)\n",
    "* 29 features (columns)\n",
    "* 1,507,923 collisions (rows)\n",
    "\n",
    "\n",
    "\n",
    "`df.info()`\n",
    "* RangeIndex: 1507923 entries, 0 to 1507922\n",
    "* Data columns (total 29 columns)\n",
    "* dtypes: float64(4), int64(7), object(18)\n",
    "* memory usage: 333.6+ MB\n",
    "\n",
    "`DATE                             1507923 non-null object\n",
    "TIME                             1507923 non-null object\n",
    "BOROUGH                          1055432 non-null object\n",
    "ZIP CODE                         1055253 non-null object\n",
    "LATITUDE                         1319709 non-null float64\n",
    "LONGITUDE                        1319709 non-null float64\n",
    "LOCATION                         1319709 non-null object\n",
    "ON STREET NAME                   1217162 non-null object\n",
    "CROSS STREET NAME                1020629 non-null object\n",
    "OFF STREET NAME                  198606 non-null object\n",
    "NUMBER OF PERSONS INJURED        1507906 non-null float64\n",
    "NUMBER OF PERSONS KILLED         1507892 non-null float64\n",
    "NUMBER OF PEDESTRIANS INJURED    1507923 non-null int64\n",
    "NUMBER OF PEDESTRIANS KILLED     1507923 non-null int64\n",
    "NUMBER OF CYCLIST INJURED        1507923 non-null int64\n",
    "NUMBER OF CYCLIST KILLED         1507923 non-null int64\n",
    "NUMBER OF MOTORIST INJURED       1507923 non-null int64\n",
    "NUMBER OF MOTORIST KILLED        1507923 non-null int64\n",
    "CONTRIBUTING FACTOR VEHICLE 1    1504001 non-null object\n",
    "CONTRIBUTING FACTOR VEHICLE 2    1306911 non-null object\n",
    "CONTRIBUTING FACTOR VEHICLE 3    97164 non-null object\n",
    "CONTRIBUTING FACTOR VEHICLE 4    20199 non-null object\n",
    "CONTRIBUTING FACTOR VEHICLE 5    5142 non-null object\n",
    "UNIQUE KEY                       1507923 non-null int64\n",
    "VEHICLE TYPE CODE 1              1503118 non-null object\n",
    "VEHICLE TYPE CODE 2              1263185 non-null object\n",
    "VEHICLE TYPE CODE 3              126564 non-null object\n",
    "VEHICLE TYPE CODE 4              48051 non-null object\n",
    "VEHICLE TYPE CODE 5              10256 non-null object`\n",
    "\n",
    "\n",
    "\n",
    "### Drop unnecessary columns\n",
    "* 30334 rows × 29 columns do not have ANY location data"
   ]
  }
 ],
 "metadata": {
  "kernelspec": {
   "display_name": "Python 3",
   "language": "python",
   "name": "python3"
  },
  "language_info": {
   "codemirror_mode": {
    "name": "ipython",
    "version": 3
   },
   "file_extension": ".py",
   "mimetype": "text/x-python",
   "name": "python",
   "nbconvert_exporter": "python",
   "pygments_lexer": "ipython3",
   "version": "3.7.1"
  }
 },
 "nbformat": 4,
 "nbformat_minor": 2
}
